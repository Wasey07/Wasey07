{
  "nbformat": 4,
  "nbformat_minor": 0,
  "metadata": {
    "kernelspec": {
      "display_name": "Python 3",
      "language": "python",
      "name": "python3"
    },
    "language_info": {
      "codemirror_mode": {
        "name": "ipython",
        "version": 3
      },
      "file_extension": ".py",
      "mimetype": "text/x-python",
      "name": "python",
      "nbconvert_exporter": "python",
      "pygments_lexer": "ipython3",
      "version": "3.7.3"
    },
    "colab": {
      "name": "Day_1_Data_types_operators_CySec.ipynb",
      "provenance": []
    }
  },
  "cells": [
    {
      "cell_type": "markdown",
      "metadata": {
        "id": "HlqhR5tyqRh2"
      },
      "source": [
        "<h1>Data Types and Operators</h1>\n",
        "<h4>Welcome to this lesson on Data Types and Operators! You'll learn about:</h4> \n",
        "\n",
        "- <h4>Data Types:</h4> Strings, Integers, Floats, Booleans, Lists, Tuples, Sets, Dictionaries\n",
        "\n",
        "- <h4>Operators:</h4> Arithmetic, Assignment, Comparison, Logical, Membership, Identity\n",
        "\n",
        "\n",
        "- Built-In Functions, Compound Data Structures, Type Conversion\n"
      ]
    },
    {
      "cell_type": "code",
      "metadata": {
        "id": "HOqNS2S-w_D4"
      },
      "source": [
        ""
      ],
      "execution_count": null,
      "outputs": []
    },
    {
      "cell_type": "markdown",
      "metadata": {
        "id": "3hCcnvVWqRh5"
      },
      "source": [
        "<h1>Strings:<h1>"
      ]
    },
    {
      "cell_type": "code",
      "metadata": {
        "id": "sHlWo3njrJY2",
        "outputId": "084fe97b-ec0d-4492-b396-80054aedde48",
        "colab": {
          "base_uri": "https://localhost:8080/"
        }
      },
      "source": [
        "print ('hello world')"
      ],
      "execution_count": 1,
      "outputs": [
        {
          "output_type": "stream",
          "text": [
            "hello world\n"
          ],
          "name": "stdout"
        }
      ]
    },
    {
      "cell_type": "code",
      "metadata": {
        "id": "HAnKULZjqRh6"
      },
      "source": [
        "#String: Enclosed textual data within quotes\n",
        "var_1 = 'Hello World!'\n",
        "var_2 = \"Youtube is Google's video streaming platform\""
      ],
      "execution_count": 3,
      "outputs": []
    },
    {
      "cell_type": "code",
      "metadata": {
        "id": "4_JRd2VKqRh6",
        "outputId": "d6a428cf-51c3-46d3-bade-82091aeee48b"
      },
      "source": [
        "print(var_1)\n",
        "#Prints the value of variable"
      ],
      "execution_count": null,
      "outputs": [
        {
          "output_type": "stream",
          "text": [
            "Hello World!\n"
          ],
          "name": "stdout"
        }
      ]
    },
    {
      "cell_type": "code",
      "metadata": {
        "id": "XAYvfLnJqRh7",
        "outputId": "b6d32273-f13a-42ae-af88-c3649fef6132",
        "colab": {
          "base_uri": "https://localhost:8080/"
        }
      },
      "source": [
        "print(len(var_1))\n",
        "#Prints the length of variable"
      ],
      "execution_count": 4,
      "outputs": [
        {
          "output_type": "stream",
          "text": [
            "12\n"
          ],
          "name": "stdout"
        }
      ]
    },
    {
      "cell_type": "code",
      "metadata": {
        "id": "8ZKIWjBAqRh8",
        "outputId": "329bf460-6442-41a2-e359-e657dd2c3fd3",
        "colab": {
          "base_uri": "https://localhost:8080/"
        }
      },
      "source": [
        "#In python, Indexing starts from 0,1,2,3\n",
        "print(var_1[10])\n",
        "#prints character at index 10\n"
      ],
      "execution_count": 5,
      "outputs": [
        {
          "output_type": "stream",
          "text": [
            "d\n"
          ],
          "name": "stdout"
        }
      ]
    },
    {
      "cell_type": "code",
      "metadata": {
        "id": "2bZm9sLRqRh8",
        "outputId": "6c1fb7b1-4e0b-45b4-8c32-af1134dffbf5"
      },
      "source": [
        "print(var_1[0:5])\n",
        "#prints character index 0-4 but 5 isn't included"
      ],
      "execution_count": null,
      "outputs": [
        {
          "output_type": "stream",
          "text": [
            "Hello\n"
          ],
          "name": "stdout"
        }
      ]
    },
    {
      "cell_type": "code",
      "metadata": {
        "id": "_xNQQubrqRh8",
        "outputId": "fac820dc-d347-4e84-ea73-7b7f6caaca5c"
      },
      "source": [
        "print(var_1[6:])\n",
        "#prints character index 6-last index "
      ],
      "execution_count": null,
      "outputs": [
        {
          "output_type": "stream",
          "text": [
            "World!\n"
          ],
          "name": "stdout"
        }
      ]
    },
    {
      "cell_type": "markdown",
      "metadata": {
        "id": "oSuM77YIqRh9"
      },
      "source": [
        "###### The above operations using square [] brackets is called slicing"
      ]
    },
    {
      "cell_type": "code",
      "metadata": {
        "id": "knJ-rciFqRh9",
        "outputId": "7b85cad5-b9f1-4d16-86ca-e10c7616c04e"
      },
      "source": [
        "print(var_1.lower()) #Prints strings in lower case"
      ],
      "execution_count": null,
      "outputs": [
        {
          "output_type": "stream",
          "text": [
            "hello world!\n"
          ],
          "name": "stdout"
        }
      ]
    },
    {
      "cell_type": "code",
      "metadata": {
        "id": "TYpTwxhnqRh9",
        "outputId": "5a9105d8-ae97-4187-f73e-27a083a97f65"
      },
      "source": [
        "print(var_1.upper()) #Prints strings in upper case"
      ],
      "execution_count": null,
      "outputs": [
        {
          "output_type": "stream",
          "text": [
            "HELLO WORLD!\n"
          ],
          "name": "stdout"
        }
      ]
    },
    {
      "cell_type": "code",
      "metadata": {
        "id": "UlAIXncOxHRm",
        "outputId": "6aec7bbe-47b8-4371-a4eb-7a625a9e6c5b",
        "colab": {
          "base_uri": "https://localhost:8080/"
        }
      },
      "source": [
        "g='Study hard'\n",
        "f='Work smart'\n",
        "h='Always'\n",
        "message3='{} {}, {}!'.format(h,g,f)\n",
        "print(message3)"
      ],
      "execution_count": 9,
      "outputs": [
        {
          "output_type": "stream",
          "text": [
            "Always Study hard, Work smart!\n"
          ],
          "name": "stdout"
        }
      ]
    },
    {
      "cell_type": "code",
      "metadata": {
        "id": "4JAX0PHQqRh9",
        "outputId": "7afa2f0a-fa3d-4dfa-af9c-e8266cdfa364"
      },
      "source": [
        "greeting = 'hello'\n",
        "name = 'harsh akshit'\n",
        "\n",
        "message_1 = greeting+', '+name+'. Welcome!' #String concatenation\n",
        "message_2 = '{}, {}. Welcome!'.format(greeting,name)\n",
        "\n",
        "print(message_1)\n",
        "print(message_2)"
      ],
      "execution_count": null,
      "outputs": [
        {
          "output_type": "stream",
          "text": [
            "hello, harsh akshit. Welcome!\n",
            "hello, harsh akshit. Welcome!\n"
          ],
          "name": "stdout"
        }
      ]
    },
    {
      "cell_type": "markdown",
      "metadata": {
        "id": "8j-IFdi4qRh-"
      },
      "source": [
        "<br><br>\n",
        "\n",
        "## Variable Naming Conventions:**\n",
        "\n",
        "There are some rules we need to follow while giving a name for a Python variable.\n",
        "\n",
        "- **Rule-1**: You should start variable name with an alphabet or **underscore(_)** character.\n",
        "- **Rule-2:** A variable name can only contain **A-Z,a-z,0-9** and **underscore(_)**.\n",
        "- **Rule-3:** You cannot start the variable name with a **number**.\n",
        "- **Rule-4:** You cannot use special characters with the variable name such as such as **$,%,#,&,@.-,^** etc.\n",
        "- **Rule-5**: Variable names are **case sensitive**. For example str and Str are two different variables.\n",
        "- **Rule-6:** Do not use reserve keyword as a variable name for example keywords like **class, for, def, del, is, else,** **try, from,** etc. more examples are given below and as we go through the course we will come across many more. Creating names that are descriptive of the values often will help you avoid using any of these words."
      ]
    },
    {
      "cell_type": "code",
      "metadata": {
        "id": "HnaOnJHnqRh-"
      },
      "source": [
        "#Allowed variable names\n",
        "\n",
        "x=2\n",
        "y=\"Hello\"\n",
        "mypython=\"PythonGuides\"\n",
        "my_python=\"PythonGuides\"\n",
        "_my_python=\"PythonGuides\"\n",
        "_mypython=\"PythonGuides\"\n",
        "MYPYTHON=\"PythonGuides\"\n",
        "myPython=\"PythonGuides\"\n",
        "myPython7=\"PythonGuides\"\n"
      ],
      "execution_count": null,
      "outputs": []
    },
    {
      "cell_type": "code",
      "metadata": {
        "id": "1M2mrzukqRh-",
        "outputId": "8f0e4200-f375-41bb-c53c-9a3da4857668"
      },
      "source": [
        "#Variable name not Allowed\n",
        "\n",
        "7mypython=\"PythonGuides\"\n",
        "-mypython=\"PythonGuides\"\n",
        "myPy@thon=\"PythonGuides\"\n",
        "my Python=\"PythonGuides\"\n",
        "for=\"PythonGuides\"\n",
        "\n",
        "#It shows invalid syntax. \n",
        "#It will execute one by one and will show the error."
      ],
      "execution_count": null,
      "outputs": [
        {
          "output_type": "error",
          "ename": "SyntaxError",
          "evalue": "invalid syntax (<ipython-input-23-23d4199b4438>, line 3)",
          "traceback": [
            "\u001b[1;36m  File \u001b[1;32m\"<ipython-input-23-23d4199b4438>\"\u001b[1;36m, line \u001b[1;32m3\u001b[0m\n\u001b[1;33m    7mypython=\"PythonGuides\"\u001b[0m\n\u001b[1;37m            ^\u001b[0m\n\u001b[1;31mSyntaxError\u001b[0m\u001b[1;31m:\u001b[0m invalid syntax\n"
          ]
        }
      ]
    },
    {
      "cell_type": "markdown",
      "metadata": {
        "id": "ccVxoM1WqRh-"
      },
      "source": [
        "# Integers and Floats:\n",
        "##### Working with numeric data"
      ]
    },
    {
      "cell_type": "markdown",
      "metadata": {
        "id": "gZIKtUQZqRh_"
      },
      "source": [
        "### Arithmetic Operators:\n",
        "#### Addition:           7+5\n",
        "#### Subtraction:     7-5\n",
        "#### Multiplication:  7*5\n",
        "#### Division:           7/5 \n",
        "#### Floor Division: 7//5 -> Drops decimal value\n",
        "#### Exponent:         7**5\n",
        "#### Modulus:           7%5 "
      ]
    },
    {
      "cell_type": "code",
      "metadata": {
        "id": "y16UCPkMqRh_",
        "outputId": "218062b7-ed37-4870-e384-48f80be67a58"
      },
      "source": [
        "abs(-11) #Returns absolute value of integer data"
      ],
      "execution_count": null,
      "outputs": [
        {
          "output_type": "execute_result",
          "data": {
            "text/plain": [
              "11"
            ]
          },
          "metadata": {
            "tags": []
          },
          "execution_count": 25
        }
      ]
    },
    {
      "cell_type": "code",
      "metadata": {
        "id": "SbNKhjfmqRh_",
        "outputId": "0910411b-7c80-4d98-8df8-fe27ff63cf67"
      },
      "source": [
        "num = 1\n",
        "num = num+1\n",
        "num += 1\n",
        "print(num)"
      ],
      "execution_count": null,
      "outputs": [
        {
          "output_type": "stream",
          "text": [
            "3\n"
          ],
          "name": "stdout"
        }
      ]
    },
    {
      "cell_type": "code",
      "metadata": {
        "id": "CgkxXHGeqRh_",
        "outputId": "d5c580dc-de2c-4d6e-fffe-c2fd08a3a360"
      },
      "source": [
        "round(8.63) # round to nearest integer"
      ],
      "execution_count": null,
      "outputs": [
        {
          "output_type": "execute_result",
          "data": {
            "text/plain": [
              "9"
            ]
          },
          "metadata": {
            "tags": []
          },
          "execution_count": 28
        }
      ]
    },
    {
      "cell_type": "code",
      "metadata": {
        "id": "KqrcB0dNqRh_",
        "outputId": "64e924d2-cb0a-4431-c8db-66559f278de3"
      },
      "source": [
        "round(8.63,1) #rounds till first decimal point"
      ],
      "execution_count": null,
      "outputs": [
        {
          "output_type": "execute_result",
          "data": {
            "text/plain": [
              "8.6"
            ]
          },
          "metadata": {
            "tags": []
          },
          "execution_count": 29
        }
      ]
    },
    {
      "cell_type": "markdown",
      "metadata": {
        "id": "dLvnxNheqRiA"
      },
      "source": [
        "### Comparison Operators:\n",
        "#### Equal:                   7==5\n",
        "#### Not Equal:            7!=5\n",
        "#### Greater than:       7>5\n",
        "#### Less than:            7<5 \n",
        "#### Greater or Equal: 7>=5\n",
        "#### Less or Equal:      7<=5"
      ]
    },
    {
      "cell_type": "code",
      "metadata": {
        "id": "ovp1OqG7qRiA",
        "outputId": "e8728ea8-a475-41a1-961f-c1c889ae4a31"
      },
      "source": [
        "num_1 = 7\n",
        "num_2 = 5\n",
        "print(num_1 == num_2)"
      ],
      "execution_count": null,
      "outputs": [
        {
          "output_type": "stream",
          "text": [
            "False\n"
          ],
          "name": "stdout"
        }
      ]
    },
    {
      "cell_type": "code",
      "metadata": {
        "id": "BLoRbDGMqRiA"
      },
      "source": [
        ""
      ],
      "execution_count": null,
      "outputs": []
    }
  ]
}